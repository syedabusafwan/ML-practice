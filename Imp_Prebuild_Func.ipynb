{
  "nbformat": 4,
  "nbformat_minor": 0,
  "metadata": {
    "colab": {
      "provenance": [],
      "authorship_tag": "ABX9TyMwV3Tj3fm5vGQIVqs4MO0I",
      "include_colab_link": true
    },
    "kernelspec": {
      "name": "python3",
      "display_name": "Python 3"
    },
    "language_info": {
      "name": "python"
    }
  },
  "cells": [
    {
      "cell_type": "markdown",
      "metadata": {
        "id": "view-in-github",
        "colab_type": "text"
      },
      "source": [
        "<a href=\"https://colab.research.google.com/github/syedabusafwan/ML-practice/blob/main/Imp_Prebuild_Func.ipynb\" target=\"_parent\"><img src=\"https://colab.research.google.com/assets/colab-badge.svg\" alt=\"Open In Colab\"/></a>"
      ]
    },
    {
      "cell_type": "code",
      "source": [
        "import os\n",
        "import shutil\n",
        "import numpy as np\n",
        "import math\n",
        "\n",
        "ROOT_DIR = \"/content/colored_images\"\n",
        "\n",
        "def dataFolder(p, split):\n",
        "  if not os.path.exists(\"./\"+p):\n",
        "    os.mkdir(\"./\"+p)\n",
        "\n",
        "    # Calculate number of images for each directory\n",
        "    number_of_images = {}  # Initialize the dictionary\n",
        "    for dir in os.listdir(ROOT_DIR):\n",
        "        number_of_images[dir] = len(os.listdir(os.path.join(ROOT_DIR, dir)))\n",
        "\n",
        "    for dir in os.listdir(ROOT_DIR):\n",
        "      os.makedirs(\"./\"+p+\"/\"+dir)\n",
        "\n",
        "      for img in np.random.choice(a=os.listdir(os.path.join(ROOT_DIR, dir)),\n",
        "                                size=(math.floor(split * number_of_images[dir]) - 5),\n",
        "                                replace=False):\n",
        "        O = os.path.join(ROOT_DIR,dir,img)\n",
        "        D = os.path.join(\"./\"+p, dir)\n",
        "        shutil.copy(O,D)\n",
        "        os.remove(O)\n",
        "  else:\n",
        "      print(\"Folder Exists\")"
      ],
      "metadata": {
        "id": "PteV3lJpBMYC"
      },
      "execution_count": 2,
      "outputs": []
    },
    {
      "cell_type": "code",
      "source": [
        "def count_images_in_folders(directory):\n",
        "  counts = {}\n",
        "  for folder in os.listdir(directory):\n",
        "    folder_path = os.path.join(directory, folder)\n",
        "    if os.path.isdir(folder_path):\n",
        "      counts[folder] = len(os.listdir(folder_path))\n",
        "  return counts\n"
      ],
      "metadata": {
        "id": "nnO1ZnqmBStG"
      },
      "execution_count": 5,
      "outputs": []
    },
    {
      "cell_type": "code",
      "source": [],
      "metadata": {
        "id": "O8_gpgpyBbKX"
      },
      "execution_count": null,
      "outputs": []
    }
  ]
}